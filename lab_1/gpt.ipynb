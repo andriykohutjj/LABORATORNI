{
 "cells": [
  {
   "cell_type": "code",
   "execution_count": 1,
   "metadata": {},
   "outputs": [
    {
     "name": "stdout",
     "output_type": "stream",
     "text": [
      "Привіт, світ!\n"
     ]
    }
   ],
   "source": [
    "# Програма, що виводить \"Привіт, світ!\"\n",
    "def hello_world():\n",
    "    print(\"Привіт, світ!\")\n",
    "\n",
    "# Виклик функції hello_world\n",
    "hello_world()"
   ]
  },
  {
   "cell_type": "markdown",
   "metadata": {},
   "source": [
    "# Пояснення від чату GPT\n",
    "Ця програма складається з функції hello_world, яка виводить рядок \"Привіт, світ!\" на екран. Потім функція викликається, щоб вона виконала свою дію і показала цей текст."
   ]
  }
 ],
 "metadata": {
  "kernelspec": {
   "display_name": "Python 3",
   "language": "python",
   "name": "python3"
  },
  "language_info": {
   "codemirror_mode": {
    "name": "ipython",
    "version": 3
   },
   "file_extension": ".py",
   "mimetype": "text/x-python",
   "name": "python",
   "nbconvert_exporter": "python",
   "pygments_lexer": "ipython3",
   "version": "3.10.13"
  }
 },
 "nbformat": 4,
 "nbformat_minor": 2
}
